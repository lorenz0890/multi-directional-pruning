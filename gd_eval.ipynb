{
 "cells": [
  {
   "cell_type": "code",
   "execution_count": 26,
   "id": "small-underwear",
   "metadata": {},
   "outputs": [],
   "source": [
    "from utils import ModelFactory"
   ]
  },
  {
   "cell_type": "code",
   "execution_count": 52,
   "id": "extreme-captain",
   "metadata": {},
   "outputs": [
    {
     "data": {
      "text/plain": [
       "'lenet'"
      ]
     },
     "execution_count": 52,
     "metadata": {},
     "output_type": "execute_result"
    }
   ],
   "source": [
    "class config_dummy:\n",
    "    def __init__(self):\n",
    "        self.model = 'lenet'\n",
    "        \n",
    "    def set_model(self, model):\n",
    "        self.model = model\n",
    "        \n",
    "    def get(self, *args):\n",
    "        if args[0] == 'OTHER':\n",
    "            return True\n",
    "        if args[0] == 'EXPERIMENT':\n",
    "            return self.model\n",
    "        if args[0] == 'SPECIFICATION':\n",
    "            return 10\n",
    "\n",
    "config = config_dummy()\n",
    "config.get('OTHER', 'no_cuda', bool)\n",
    "config.get('EXPERIMENT', 'model', str)"
   ]
  },
  {
   "cell_type": "code",
   "execution_count": 53,
   "id": "angry-bachelor",
   "metadata": {},
   "outputs": [],
   "source": [
    "factory = ModelFactory()"
   ]
  },
  {
   "cell_type": "code",
   "execution_count": 81,
   "id": "dedicated-thumbnail",
   "metadata": {},
   "outputs": [
    {
     "name": "stdout",
     "output_type": "stream",
     "text": [
      "Model: lenet Stored 45: 0.09 GB Stored 45: 0.18 GB Grads: 0.002 GB\n",
      "Model: alexnet_s Stored 45: 4.905 GB Stored 45: 9.81 GB Grads: 0.109 GB\n",
      "Model: alexnet Stored 45: 10.98 GB Stored 45: 21.96 GB Grads: 0.244 GB\n",
      "Model: resnet18 Stored 45: 2.115 GB Stored 45: 4.23 GB Grads: 0.047 GB\n",
      "Model: resnet20 Stored 45: 0.045 GB Stored 45: 0.09 GB Grads: 0.001 GB\n",
      "Model: resnet32 Stored 45: 0.09 GB Stored 45: 0.18 GB Grads: 0.002 GB\n",
      "Model: resnet34 Stored 45: 3.915 GB Stored 45: 7.83 GB Grads: 0.087 GB\n",
      "Model: resnet44 Stored 45: 0.135 GB Stored 45: 0.27 GB Grads: 0.003 GB\n",
      "Model: resnet50 Stored 45: 4.59 GB Stored 45: 9.18 GB Grads: 0.102 GB\n",
      "Model: resnet56 Stored 45: 0.18 GB Stored 45: 0.36 GB Grads: 0.004 GB\n",
      "Model: densenet121 Stored 45: 1.44 GB Stored 45: 2.88 GB Grads: 0.032 GB\n",
      "Model: densenet161 Stored 45: 5.175 GB Stored 45: 10.35 GB Grads: 0.115 GB\n",
      "Model: densenet169 Stored 45: 2.565 GB Stored 45: 5.13 GB Grads: 0.057 GB\n",
      "Model: densenet201 Stored 45: 3.6 GB Stored 45: 7.2 GB Grads: 0.08 GB\n",
      "Model: mobilenet_v2 Stored 45: 0.63 GB Stored 45: 1.26 GB Grads: 0.014 GB\n",
      "Model: mobilenet_v3_s Stored 45: 0.45 GB Stored 45: 0.9 GB Grads: 0.01 GB\n",
      "Model: wrn16_8 Stored 45: 2.07 GB Stored 45: 4.14 GB Grads: 0.046 GB\n",
      "Model: wrn16_10 Stored 45: 3.195 GB Stored 45: 6.39 GB Grads: 0.071 GB\n",
      "Model: wrn22_8 Stored 45: 3.195 GB Stored 45: 6.39 GB Grads: 0.071 GB\n",
      "Model: wrn28_10 Stored 45: 6.66 GB Stored 45: 13.32 GB Grads: 0.148 GB\n",
      "Model: vgg8 Stored 45: 22.95 GB Stored 45: 45.9 GB Grads: 0.51 GB\n",
      "Model: vgg11 Stored 45: 23.895 GB Stored 45: 47.79 GB Grads: 0.531 GB\n",
      "Model: vgg13 Stored 45: 23.94 GB Stored 45: 47.88 GB Grads: 0.532 GB\n",
      "Model: vgg16 Stored 45: 24.885 GB Stored 45: 49.77 GB Grads: 0.553 GB\n"
     ]
    }
   ],
   "source": [
    "model_names = ['lenet', 'alexnet_s', 'alexnet', 'resnet18', 'resnet20', 'resnet32', 'resnet34',\n",
    "               'resnet44', 'resnet50', 'resnet56', 'densenet121', 'densenet161', 'densenet169',\n",
    "               'densenet201', 'mobilenet_v2', 'mobilenet_v3_s', 'wrn16_8', 'wrn16_10', 'wrn22_8',\n",
    "               'wrn28_10', 'vgg8', 'vgg11', 'vgg13', 'vgg16']\n",
    "lb1, lb2 = 45, 90\n",
    "for model_name in model_names:\n",
    "    config.set_model(model_name)\n",
    "    model = factory.get_model(config)\n",
    "    trainable_params = sum(p.numel() for p in model.parameters() if p.requires_grad)\n",
    "    grads_mb = round(trainable_params*32/8*1e-9, 3)\n",
    "    stored_grads1 = round(grads_mb*lb1, 3)\n",
    "    stored_grads2 = round(grads_mb*lb2, 3)\n",
    "    print('Model:',model_name,  \n",
    "          'Stored 45:',stored_grads1, 'GB', \n",
    "          'Stored 45:',stored_grads2, 'GB', \n",
    "          'Grads:',grads_mb, 'GB',)"
   ]
  },
  {
   "cell_type": "code",
   "execution_count": null,
   "id": "transparent-capacity",
   "metadata": {},
   "outputs": [],
   "source": []
  }
 ],
 "metadata": {
  "kernelspec": {
   "display_name": "Python 3",
   "language": "python",
   "name": "python3"
  },
  "language_info": {
   "codemirror_mode": {
    "name": "ipython",
    "version": 3
   },
   "file_extension": ".py",
   "mimetype": "text/x-python",
   "name": "python",
   "nbconvert_exporter": "python",
   "pygments_lexer": "ipython3",
   "version": "3.6.13"
  }
 },
 "nbformat": 4,
 "nbformat_minor": 5
}