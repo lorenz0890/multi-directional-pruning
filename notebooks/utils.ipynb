{
 "cells": [
  {
   "cell_type": "code",
   "execution_count": 2,
   "id": "invalid-winner",
   "metadata": {},
   "outputs": [],
   "source": [
    "import matplotlib.pyplot as plt\n",
    "from scipy.signal import resample\n",
    "import glob, os, fileinput\n",
    "from glob import glob\n",
    "import numpy as np"
   ]
  },
  {
   "cell_type": "code",
   "execution_count": 47,
   "id": "solar-indication",
   "metadata": {},
   "outputs": [
    {
     "data": {
      "image/png": "[encoded data removed]",
      "text/plain": [
       "<Figure size 432x288 with 1 Axes>"
      ]
     },
     "metadata": {
      "needs_background": "light"
     },
     "output_type": "display_data"
    },
    {
     "data": {
      "image/png": "[encoded data removed]",
      "text/plain": [
       "<Figure size 432x288 with 1 Axes>"
      ]
     },
     "metadata": {
      "needs_background": "light"
     },
     "output_type": "display_data"
    },
    {
     "name": "stdout",
     "output_type": "stream",
     "text": [
      "[0.84, 0.93, 0.94, 0.98, 0.97]\n"
     ]
    }
   ],
   "source": [
    "#percentages for resnet\n",
    "#x = [0.8, 0.92, 0.991, 0.93]\n",
    "x = [0.8, 0.92, 0.93, 0.94, 0.95, 0.99, 0.99, 0.93]#\n",
    "#print(len([0.8, 0.81, 0.83, 0.86, 0.89, 0.92, 0.94, 0.94, 0.94, 0.94, 0.93, 0.93, 0.93, 0.93, 0.93, 0.94, 0.94, 0.94, 0.95, 0.95, 0.95, 0.95, 0.96, 0.97, 0.98, 0.99, 0.99, 0.99, 0.99, 0.99, 0.99, 0.99, 0.99, 0.98, 0.97, 0.95, 0.93, 0.89, 0.86, 0.83, 0.81]))\n",
    "plt.plot(x)\n",
    "plt.show()\n",
    "y = resample(x,5)\n",
    "plt.plot(y)\n",
    "y = [round(elem,2) for elem in y]\n",
    "plt.plot(y)\n",
    "plt.show()\n",
    "y = list(np.array(y)*1.005)\n",
    "y = [round(elem,2) for elem in y]\n",
    "print(y)"
   ]
  },
  {
   "cell_type": "code",
   "execution_count": 82,
   "id": "selected-storage",
   "metadata": {},
   "outputs": [],
   "source": [
    "#  batch move config files\n",
    "root_dir = '/media/lorenz/Volume/code/msc/pytorch-admm-pruning/configs/ablation_study/alexnet_mixed/finished'\n",
    "target_path = '/media/lorenz/Volume/code/msc/pytorch-admm-pruning/configs/ablation_study/XX/finished'\n",
    "import os\n",
    "import shutil\n",
    "for subdir, dirs, files in os.walk(root_dir):\n",
    "    for file in files:\n",
    "        path = os.path.join(subdir, file)\n",
    "        with open(path, 'r') as ofile:\n",
    "            for line in ofile:\n",
    "                if 'name' in line:\n",
    "                    experiment=line.split('=')[-1].split(' ')[-1].split('\\n')[0]\n",
    "                    new_path = target_path.replace('XX', experiment)+'/'+path.split('/')[-1]\n",
    "                    try:\n",
    "                        shutil.move(path, new_path)\n",
    "                    except Exception as e:\n",
    "                        print(e)\n",
    "                    \n",
    "        \n",
    "    #os.rename(\"path/to/current/file.foo\", \"path/to/new/destination/for/file.foo\")\n",
    "    #os.replace(\"path/to/current/file.foo\", \"path/to/new/destination/for/file.foo\")\n",
    "    #"
   ]
  },
  {
   "cell_type": "code",
   "execution_count": 50,
   "id": "specialized-myanmar",
   "metadata": {},
   "outputs": [],
   "source": [
    "# batch change configs\n",
    "root_dir = '/media/lorenz/Volume/code/msc/pytorch-admm-pruning/configs/experiments/re_pruning_gd_top_k_mc_ac_dk_admm_intra/tranche7'\n",
    "os.chdir(root_dir)\n",
    "replace = False\n",
    "rename = False\n",
    "rem_bak = True\n",
    "bak_to_ini = False\n",
    "for subdir, dirs, files in os.walk(root_dir):\n",
    "    for file in files:\n",
    "        path = os.path.join(subdir, file)\n",
    "        if replace:\n",
    "            with fileinput.FileInput(path, inplace=True, backup='.bak') as file:\n",
    "                for line in file:\n",
    "                    print(line.replace(\"percent = 0.95, 0.97 0.95\", \n",
    "                                       \"percent = 0.95, 0.97, 0.95\"),  end='')\n",
    "\n",
    "        if rename:\n",
    "            if 'leneta' not in path:\n",
    "                new_path = path\n",
    "                new_path = new_path.replace('lenet', 'leneta')\n",
    "                os.rename(path, new_path)\n",
    "                print(new_path)\n",
    "            \n",
    "        if rem_bak:\n",
    "            if '.bak' in path:\n",
    "                os.remove(path) \n",
    "        \n",
    "        if bak_to_ini:\n",
    "            if '.bak' in path:\n",
    "                with open(path, 'r') as file :\n",
    "                      filedata = file.read()\n",
    "\n",
    "                print(path)\n",
    "                path = path.replace('.bak', '')\n",
    "\n",
    "                with open(path, 'w') as file:\n",
    "                    file.write(filedata)\n",
    "        "
   ]
  },
  {
   "cell_type": "code",
   "execution_count": 42,
   "id": "competent-struggle",
   "metadata": {},
   "outputs": [],
   "source": [
    "# batch delete pngs\n",
    "import sys\n",
    "import os\n",
    "import glob\n",
    "\n",
    "main_dir = '/media/lorenz/Volume/code/msc/pytorch-admm-pruning/logfiles/'\n",
    "\n",
    "folders = os.listdir(main_dir)\n",
    "\n",
    "for (dirname, dirs, files) in os.walk(main_dir):\n",
    "    for file in files:\n",
    "        if file.endswith('.png'):\n",
    "            source_file = os.path.join(dirname, file)\n",
    "            os.remove(source_file)"
   ]
  },
  {
   "cell_type": "code",
   "execution_count": 49,
   "id": "metropolitan-communication",
   "metadata": {},
   "outputs": [
    {
     "name": "stdout",
     "output_type": "stream",
     "text": [
      "[0.86232239 1.07790563 0.45779442 0.40133333 0.42973786 0.65149084\n",
      " 0.51373602 0.87655633 0.70476186 0.87268411 0.60857902 0.71483818\n",
      " 0.58682691]\n",
      "0.673735915418586 0.196223750414986\n"
     ]
    }
   ],
   "source": [
    "#Sparsity exploitation rate: speedup/sparsity\n",
    "x = np.array([\n",
    "    # Procustes. \n",
    "    (528/157)/3.9, #Densenet\n",
    "    (4/0.863)/4.3, #WRN\n",
    "    (269/113)/5.2, #VGG\n",
    "    (301/75)/10, #Mob\n",
    "    (1800/358)/11.7, #Res\n",
    "    \n",
    "    # Eager pruning\n",
    "    (1/(1-0.4119))/2.61,\n",
    "    (1/(1-0.4325))/3.43,\n",
    "    (1/(1-0.2687))/1.56,\n",
    "    (1/(1-0.4013))/2.37,\n",
    "    (1/(1-0.3806))/1.85,\n",
    "    (1/(1-0.4486))/2.98,\n",
    "    (1/(1-0.3463))/2.14,\n",
    "    (1/(1-0.524))/3.58\n",
    "    \n",
    "         ])\n",
    "print(x)\n",
    "print(x.mean(), x.std())"
   ]
  },
  {
   "cell_type": "code",
   "execution_count": null,
   "id": "collective-smart",
   "metadata": {},
   "outputs": [],
   "source": []
  }
 ],
 "metadata": {
  "kernelspec": {
   "display_name": "Python 3",
   "language": "python",
   "name": "python3"
  },
  "language_info": {
   "codemirror_mode": {
    "name": "ipython",
    "version": 3
   },
   "file_extension": ".py",
   "mimetype": "text/x-python",
   "name": "python",
   "nbconvert_exporter": "python",
   "pygments_lexer": "ipython3",
   "version": "3.6.13"
  }
 },
 "nbformat": 4,
 "nbformat_minor": 5
}
